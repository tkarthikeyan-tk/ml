{
  "nbformat": 4,
  "nbformat_minor": 0,
  "metadata": {
    "colab": {
      "provenance": [],
      "authorship_tag": "ABX9TyMuyasao213dsiT/oooCg0s",
      "include_colab_link": true
    },
    "kernelspec": {
      "name": "python3",
      "display_name": "Python 3"
    },
    "language_info": {
      "name": "python"
    }
  },
  "cells": [
    {
      "cell_type": "markdown",
      "metadata": {
        "id": "view-in-github",
        "colab_type": "text"
      },
      "source": [
        "<a href=\"https://colab.research.google.com/github/tkarthikeyan-tk/ml/blob/main/sample1.ipynb\" target=\"_parent\"><img src=\"https://colab.research.google.com/assets/colab-badge.svg\" alt=\"Open In Colab\"/></a>"
      ]
    },
    {
      "cell_type": "code",
      "execution_count": 12,
      "metadata": {
        "colab": {
          "base_uri": "https://localhost:8080/"
        },
        "id": "aZtsyDCyPLHP",
        "outputId": "a6a61829-88ca-4852-8cf7-14307506bc49"
      },
      "outputs": [
        {
          "output_type": "stream",
          "name": "stdout",
          "text": [
            "np.array():\n",
            " [1 3 5]\n",
            "\n",
            "np.zeros():\n",
            " [[0. 0. 0.]\n",
            " [0. 0. 0.]\n",
            " [0. 0. 0.]]\n",
            "\n",
            "np.ones():\n",
            " [[1. 1. 1. 1.]\n",
            " [1. 1. 1. 1.]]\n"
          ]
        }
      ],
      "source": [
        "import numpy as np\n",
        "\n",
        "# create an array using np.array()\n",
        "array1 = np.array([1, 3, 5])\n",
        "print(\"np.array():\\n\", array1)\n",
        "\n",
        "# create an array filled with zeros using np.zeros()\n",
        "array2 = np.zeros((3, 3))\n",
        "print(\"\\nnp.zeros():\\n\", array2)\n",
        "\n",
        "# create an array filled with ones using np.ones()\n",
        "array3 = np.ones((2, 4))\n",
        "print(\"\\nnp.ones():\\n\", array3)"
      ]
    }
  ]
}